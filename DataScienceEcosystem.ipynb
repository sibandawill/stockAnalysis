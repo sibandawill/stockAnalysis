{
 "cells": [
  {
   "cell_type": "markdown",
   "id": "2f90cdba-9c7d-45fe-a17f-c1c727c61823",
   "metadata": {},
   "source": [
    "# Data Science Tools and Ecosystem #"
   ]
  },
  {
   "cell_type": "markdown",
   "id": "fd1dbcd2-f2a2-4daa-8392-bb519cb79ba1",
   "metadata": {},
   "source": [
    "In this notebook, Data Science Tools and Ecosystem are summarized."
   ]
  },
  {
   "cell_type": "markdown",
   "id": "cb8d2170-e3ca-4a08-9899-2e3857ef6d00",
   "metadata": {},
   "source": [
    "#### Some of the popular languages that Data Scientists use are: ####"
   ]
  },
  {
   "cell_type": "markdown",
   "id": "d759382c-ec8d-4190-8e21-022cdab804e0",
   "metadata": {},
   "source": [
    "* Python\n",
    "* Julia\n",
    "* R"
   ]
  },
  {
   "cell_type": "markdown",
   "id": "f7312abe-6a65-4218-a406-9e3da73cbe4a",
   "metadata": {},
   "source": [
    "#### Some of the commonly used libraries used by Data Scientists include: ####\n",
    "* Pandas\n",
    "* NumPy\n",
    "* Seaborn\n",
    "* Plotly\n",
    "* ggplot"
   ]
  },
  {
   "cell_type": "markdown",
   "id": "203a7b8f-d63f-4f7e-a9ee-0749261ab67f",
   "metadata": {},
   "source": [
    "#### Data Science Tools ####\n",
    "|Column 1|Column 2|Column 3|\n",
    "----------|------------|-------------|\n",
    "|PostgreSQL|Apache Spark|IBM Watson Studio|"
   ]
  },
  {
   "cell_type": "markdown",
   "id": "473e0787-9e9b-4a40-a667-65777661f908",
   "metadata": {},
   "source": [
    "### Below are a few examples of evaluating arithmetic expressions in Python ###"
   ]
  },
  {
   "cell_type": "code",
   "execution_count": 18,
   "id": "59dc3cdb-0ecc-4004-8b3b-590b375147bc",
   "metadata": {},
   "outputs": [
    {
     "data": {
      "text/plain": [
       "17"
      ]
     },
     "execution_count": 18,
     "metadata": {},
     "output_type": "execute_result"
    }
   ],
   "source": [
    "(3*4)+5\n",
    "#This a simple arithmetic expression to mutiply then add integers"
   ]
  },
  {
   "cell_type": "code",
   "execution_count": 20,
   "id": "25b36e5f-6141-4541-aea4-7b4edf35a87b",
   "metadata": {},
   "outputs": [
    {
     "name": "stdout",
     "output_type": "stream",
     "text": [
      "200 minutes\n",
      "3.3333333333333335 hours\n"
     ]
    }
   ],
   "source": [
    "time = 200\n",
    "print(f\"{time} minutes\")\n",
    "time = time/60\n",
    "print(f\"{time} hours\")\n",
    "#This will convert 200 minutes to hours by diving by 60"
   ]
  },
  {
   "cell_type": "markdown",
   "id": "c79e5613-6b76-40f7-8128-126a9d328207",
   "metadata": {},
   "source": [
    "__Objectives:__\n",
    "* Define what a REST API is\n",
    "* Identify what languages to learn based on your specific needs\n",
    "* Explain how to merge branches"
   ]
  },
  {
   "cell_type": "markdown",
   "id": "6fcd8faa-83a1-411d-b89b-771e9fdea6db",
   "metadata": {},
   "source": [
    "## Author ##\n",
    "William Sibanda"
   ]
  },
  {
   "cell_type": "code",
   "execution_count": null,
   "id": "7e03dfaf-e557-4cf2-b6f5-5fde1ea68c7c",
   "metadata": {},
   "outputs": [],
   "source": []
  }
 ],
 "metadata": {
  "kernelspec": {
   "display_name": "Python 3 (ipykernel)",
   "language": "python",
   "name": "python3"
  },
  "language_info": {
   "codemirror_mode": {
    "name": "ipython",
    "version": 3
   },
   "file_extension": ".py",
   "mimetype": "text/x-python",
   "name": "python",
   "nbconvert_exporter": "python",
   "pygments_lexer": "ipython3",
   "version": "3.11.7"
  }
 },
 "nbformat": 4,
 "nbformat_minor": 5
}
